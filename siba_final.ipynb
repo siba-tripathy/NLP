{
 "cells": [
  {
   "cell_type": "code",
   "execution_count": 13,
   "metadata": {},
   "outputs": [],
   "source": [
    "import pandas as pd\n",
    "import numpy as np\n",
    "df1=pd.read_csv('symptoms.csv')\n",
    "df2=pd.read_csv('sym_dia_final.csv')"
   ]
  },
  {
   "cell_type": "code",
   "execution_count": 14,
   "metadata": {},
   "outputs": [
    {
     "name": "stdout",
     "output_type": "stream",
     "text": [
      "Enter the stringi feel lack of energy\n"
     ]
    }
   ],
   "source": [
    "text=input(\"Enter the string\")\n",
    "#text\n",
    "#tokens=[t for t in text.split()]\n",
    "from nltk.tokenize import word_tokenize as wt\n",
    "tokens=wt(text)"
   ]
  },
  {
   "cell_type": "code",
   "execution_count": 15,
   "metadata": {},
   "outputs": [],
   "source": [
    "#tokens\n",
    "cleantokens=tokens[:]\n",
    "from nltk.corpus import stopwords\n",
    "sw=stopwords.words('english')\n",
    "for tok in tokens:\n",
    "    if tok in stopwords.words('english'):\n",
    "        cleantokens.remove(tok)"
   ]
  },
  {
   "cell_type": "code",
   "execution_count": 16,
   "metadata": {
    "scrolled": true
   },
   "outputs": [
    {
     "data": {
      "text/plain": [
       "['feel', 'lack', 'energi']"
      ]
     },
     "execution_count": 16,
     "metadata": {},
     "output_type": "execute_result"
    }
   ],
   "source": [
    "from nltk.stem import PorterStemmer,WordNetLemmatizer\n",
    "lemmatizer=WordNetLemmatizer()\n",
    "stemmer=PorterStemmer()\n",
    "finals=[]\n",
    "for root in cleantokens:\n",
    "    #finals.append(lemmatizer.lemmatize(root))\n",
    "    finals.append(stemmer.stem(root))\n",
    "finset=set()\n",
    "finals"
   ]
  },
  {
   "cell_type": "code",
   "execution_count": 24,
   "metadata": {},
   "outputs": [
    {
     "data": {
      "text/plain": [
       "{40, 217}"
      ]
     },
     "execution_count": 24,
     "metadata": {},
     "output_type": "execute_result"
    }
   ],
   "source": [
    "for index,rows in df1.iterrows():\n",
    "    for far in finals:\n",
    "        if far in rows['symptom']:\n",
    "            finset.add(rows['sid'])\n",
    "finset"
   ]
  },
  {
   "cell_type": "code",
   "execution_count": 18,
   "metadata": {},
   "outputs": [],
   "source": [
    "anslist=[]\n",
    "df3=pd.DataFrame(columns=[['sid','did', 'wei']])\n",
    "#df3.head()"
   ]
  },
  {
   "cell_type": "code",
   "execution_count": 19,
   "metadata": {},
   "outputs": [],
   "source": [
    "for stat in finset:\n",
    "    for i in range(len(df2.index)):\n",
    "        if df2.loc[i, 'sid'] == stat:\n",
    "            df3.loc[i, 'sid'] = df2.loc[i, 'sid']\n",
    "            df3.loc[i, 'did'] = df2.loc[i, 'did']\n",
    "            df3.loc[i, 'wei'] = df2.loc[i, 'wei']"
   ]
  },
  {
   "cell_type": "code",
   "execution_count": 20,
   "metadata": {},
   "outputs": [],
   "source": [
    "#df3.head(20)\n",
    "#df3=df3.iloc[:,[0,1]]\n",
    "#df3.dtypes"
   ]
  },
  {
   "cell_type": "code",
   "execution_count": 21,
   "metadata": {},
   "outputs": [],
   "source": [
    "df3.to_csv('sym_dia_res2.csv', index=False)\n",
    "df4=pd.read_csv('sym_dia_res2.csv')\n",
    "df4=df4.sort_values(by='wei',ascending=False)\n",
    "#df4"
   ]
  },
  {
   "cell_type": "code",
   "execution_count": 22,
   "metadata": {},
   "outputs": [],
   "source": [
    "\n",
    "df5=pd.read_csv('diagonistics.csv')\n",
    "df6=pd.read_csv('med_final.csv')\n"
   ]
  },
  {
   "cell_type": "code",
   "execution_count": 23,
   "metadata": {},
   "outputs": [
    {
     "name": "stdout",
     "output_type": "stream",
     "text": [
      "You may be affected with (with decreasing probability)\n",
      "Case  1 - Altered mental status\u000b",
      "confusion\n",
      "     Treatment is T-Consult Doctor\n",
      "Case  2 - Basilar skull fracture\u000b",
      "broken skull\n",
      "     Treatment is T-Consult Doctor\n",
      "Case  3 - Cerebellar syndrome\u000b",
      "loss of coordination\n",
      "     Treatment is T-Supportive Therapy\n",
      "Case  4 - Cerebrospinal fluid rhinorrhea\u000b",
      "leakage of brain fluid from the nose\n",
      "     Treatment is T-Consult Doctor\n",
      "Case  5 - Cervical spine fracture\u000b",
      "broken neck bone\n",
      "     Treatment is T-Wear Cervical Brace\n"
     ]
    }
   ],
   "source": [
    "print(\"You may be affected with (with decreasing probability)\")\n",
    "for x in range(5):\n",
    "    indic=df3.iloc[x,1]\n",
    "    print (\"Case \",end=' ')\n",
    "    print(x+1,end=' - ')\n",
    "    for i in range(len(df5.index)):\n",
    "        if df5.loc[i,'did']==indic:\n",
    "            print(df5.loc[i,'diagnosis'])\n",
    "    \n",
    "    for i in range(len(df6.index)):\n",
    "        if df6.loc[i,'did']==indic:\n",
    "            print(\"     Treatment is\",end=' ')\n",
    "            print(df6.loc[i,'medicine'])\n",
    "    "
   ]
  },
  {
   "cell_type": "code",
   "execution_count": null,
   "metadata": {},
   "outputs": [],
   "source": []
  }
 ],
 "metadata": {
  "kernelspec": {
   "display_name": "Python 3",
   "language": "python",
   "name": "python3"
  },
  "language_info": {
   "codemirror_mode": {
    "name": "ipython",
    "version": 3
   },
   "file_extension": ".py",
   "mimetype": "text/x-python",
   "name": "python",
   "nbconvert_exporter": "python",
   "pygments_lexer": "ipython3",
   "version": "3.5.2"
  }
 },
 "nbformat": 4,
 "nbformat_minor": 2
}
